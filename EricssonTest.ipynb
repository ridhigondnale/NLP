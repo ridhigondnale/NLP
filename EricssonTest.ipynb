{
 "cells": [
  {
   "cell_type": "code",
   "execution_count": 2,
   "metadata": {},
   "outputs": [],
   "source": [
    "import pandas as pd\n",
    "import numpy as np\n",
    "import matplotlib.pyplot as plt\n",
    "import seaborn as sns"
   ]
  },
  {
   "cell_type": "code",
   "execution_count": 237,
   "metadata": {},
   "outputs": [],
   "source": [
    "inp = ['','aabct','AGAGGGGGGGAAA','AAACCCAAAGT',\n",
    "       'TTTACA','AGTCATTTATTAT',\n",
    "      'AGAGAGAGAGAGAGAGAG']\n",
    "#inp2 = ['AGTGGGGGGGAAA','AAACCCAATTT','TTTACA','TTTCATTTATTAT']\n",
    "chart = ['A','T','G','C']\n"
   ]
  },
  {
   "cell_type": "markdown",
   "metadata": {},
   "source": [
    "# PART 1"
   ]
  },
  {
   "cell_type": "code",
   "execution_count": 238,
   "metadata": {},
   "outputs": [],
   "source": [
    "ValidStrand = []\n",
    "\n",
    "def valid(inputStrand):\n",
    "    if (len(inputStrand) > 10 and \n",
    "        len(inputStrand)<100 and \n",
    "        inputStrand.isupper() and \n",
    "        all(i in chart  for i in inputStrand)):\n",
    "        ValidStrand  = 1\n",
    "    else: \n",
    "        ValidStrand = 0\n",
    "    return ValidStrand\n",
    "            "
   ]
  },
  {
   "cell_type": "code",
   "execution_count": null,
   "metadata": {},
   "outputs": [],
   "source": []
  },
  {
   "cell_type": "code",
   "execution_count": 239,
   "metadata": {},
   "outputs": [
    {
     "name": "stdout",
     "output_type": "stream",
     "text": [
      "['AGAGGGGGGGAAA', 'AAACCCAAAGT', 'AGTCATTTATTAT', 'AGAGAGAGAGAGAGAGAG']\n"
     ]
    }
   ],
   "source": [
    "VS = []\n",
    "count = 0\n",
    "for i in range(len(inp)):\n",
    "    if valid(inp[i]) == 1:\n",
    "        VS.append(inp[i])\n",
    "\n",
    "        \n",
    "        \n",
    "if len(VS)<3:\n",
    "    VS = []\n",
    "    print(VS)\n",
    "else: \n",
    "    print(VS)\n"
   ]
  },
  {
   "cell_type": "markdown",
   "metadata": {},
   "source": [
    "# PART 2"
   ]
  },
  {
   "cell_type": "code",
   "execution_count": 186,
   "metadata": {},
   "outputs": [],
   "source": [
    "# Create list of only overlapping strands"
   ]
  },
  {
   "cell_type": "code",
   "execution_count": 240,
   "metadata": {},
   "outputs": [],
   "source": [
    "ValidST = []\n",
    "for i in range(len(VS)):\n",
    "    for j in range(len(VS)):\n",
    "        if ((i != j) and (VS[i][-3:] == VS[j][:3])):\n",
    "            ValidST.append(VS[i]+VS[j][3:])\n",
    "            "
   ]
  },
  {
   "cell_type": "code",
   "execution_count": 227,
   "metadata": {},
   "outputs": [
    {
     "data": {
      "text/plain": [
       "'AGAGGGGGGGAAAAAA'"
      ]
     },
     "execution_count": 227,
     "metadata": {},
     "output_type": "execute_result"
    }
   ],
   "source": [
    "VS[i]+VS[j][-3:]"
   ]
  },
  {
   "cell_type": "code",
   "execution_count": 224,
   "metadata": {},
   "outputs": [],
   "source": [
    "i= 0\n",
    "j=0"
   ]
  },
  {
   "cell_type": "code",
   "execution_count": 241,
   "metadata": {},
   "outputs": [
    {
     "data": {
      "text/plain": [
       "['AGAGGGGGGGAAACCCAAAGT', 'AAACCCAAAGTCATTTATTAT']"
      ]
     },
     "execution_count": 241,
     "metadata": {},
     "output_type": "execute_result"
    }
   ],
   "source": [
    "ValidST"
   ]
  },
  {
   "cell_type": "markdown",
   "metadata": {},
   "source": [
    "# PART 3"
   ]
  },
  {
   "cell_type": "code",
   "execution_count": 236,
   "metadata": {},
   "outputs": [],
   "source": [
    "# Count codons"
   ]
  },
  {
   "cell_type": "code",
   "execution_count": 242,
   "metadata": {},
   "outputs": [],
   "source": [
    "dict1 = {'AAA':'Lysine','GGG':'Glycine','TTT':'Phenylalanine'}"
   ]
  },
  {
   "cell_type": "code",
   "execution_count": 258,
   "metadata": {},
   "outputs": [
    {
     "name": "stdout",
     "output_type": "stream",
     "text": [
      "For strand  0\n",
      "Lysine :  2\n",
      "Glycine :  2\n",
      "Phenylalanine :  0\n",
      "For strand  1\n",
      "Lysine :  2\n",
      "Glycine :  0\n",
      "Phenylalanine :  1\n"
     ]
    }
   ],
   "source": [
    "for i in range(len(ValidST)):\n",
    "    Lysine = ValidST[i].count(\"AAA\")\n",
    "    Glycine = ValidST[i].count(\"GGG\")\n",
    "    Phenylalanine = ValidST[i].count(\"TTT\")\n",
    "    print('For strand ',i)\n",
    "    print('Lysine : ',Lysine)\n",
    "    print('Glycine : ',Glycine)\n",
    "    print('Phenylalanine : ',Phenylalanine)"
   ]
  },
  {
   "cell_type": "code",
   "execution_count": null,
   "metadata": {},
   "outputs": [],
   "source": []
  },
  {
   "cell_type": "code",
   "execution_count": null,
   "metadata": {},
   "outputs": [],
   "source": []
  }
 ],
 "metadata": {
  "kernelspec": {
   "display_name": "Python 3",
   "language": "python",
   "name": "python3"
  },
  "language_info": {
   "codemirror_mode": {
    "name": "ipython",
    "version": 3
   },
   "file_extension": ".py",
   "mimetype": "text/x-python",
   "name": "python",
   "nbconvert_exporter": "python",
   "pygments_lexer": "ipython3",
   "version": "3.6.8"
  }
 },
 "nbformat": 4,
 "nbformat_minor": 2
}
